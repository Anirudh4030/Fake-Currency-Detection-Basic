{
 "cells": [
  {
   "cell_type": "code",
   "execution_count": 7,
   "id": "8c6d48cd-cc09-40ab-a195-35fc0e0acaed",
   "metadata": {},
   "outputs": [],
   "source": [
    "import streamlit as st\n",
    "import pickle\n",
    "import numpy as np\n",
    "import pandas as pd\n",
    "\n"
   ]
  },
  {
   "cell_type": "code",
   "execution_count": 9,
   "id": "bf3a2d0e-64d3-4c4a-abd6-8a7bded0519a",
   "metadata": {},
   "outputs": [
    {
     "name": "stderr",
     "output_type": "stream",
     "text": [
      "2025-03-09 11:15:34.907 \n",
      "  \u001b[33m\u001b[1mWarning:\u001b[0m to view this Streamlit app on a browser, run it with the following\n",
      "  command:\n",
      "\n",
      "    streamlit run C:\\Users\\ANIRUDH\\anaconda3\\Lib\\site-packages\\ipykernel_launcher.py [ARGUMENTS]\n",
      "2025-03-09 11:15:34.913 Session state does not function when running a script without `streamlit run`\n"
     ]
    }
   ],
   "source": [
    "\n",
    "# Load the trained model\n",
    "with open('model.pkl', 'rb') as model_file:\n",
    "    model = pickle.load(model_file)\n",
    "\n",
    "# Streamlit UI\n",
    "st.title(\"Counterfeit Note Detection\")\n",
    "st.write(\"Enter the features of the banknote to check if it's real or fake.\")\n",
    "\n",
    "# Input fields\n",
    "variance = st.number_input(\"Variance of Wavelet Transformed Image\")\n",
    "skewness = st.number_input(\"Skewness of Wavelet Transformed Image\")\n",
    "kurtosis = st.number_input(\"Kurtosis of Wavelet Transformed Image\")\n",
    "entropy = st.number_input(\"Entropy of the Image\")\n",
    "\n",
    "# Prediction\n",
    "if st.button(\"Check Authenticity\"):\n",
    "    features = np.array([[variance, skewness, kurtosis, entropy]])\n",
    "    prediction = model.predict(features)\n",
    "    \n",
    "    if prediction[0] == 0:\n",
    "        st.success(\"The banknote is REAL!\")\n",
    "    else:\n",
    "        st.error(\"The banknote is FAKE!\")\n",
    "\n",
    "# Instructions to run in Anaconda PowerShell\n",
    "st.write(\"\"\"\n",
    "### How to Run the Deployment:\n",
    "1. Open Anaconda PowerShell.\n",
    "2. Navigate to the directory containing this script.\n",
    "3. Run `streamlit run deployment.py`.\n",
    "\"\"\")"
   ]
  },
  {
   "cell_type": "code",
   "execution_count": null,
   "id": "56001ab8-d73b-45a7-8f39-8a21c6153614",
   "metadata": {},
   "outputs": [],
   "source": []
  }
 ],
 "metadata": {
  "kernelspec": {
   "display_name": "Python [conda env:base] *",
   "language": "python",
   "name": "conda-base-py"
  },
  "language_info": {
   "codemirror_mode": {
    "name": "ipython",
    "version": 3
   },
   "file_extension": ".py",
   "mimetype": "text/x-python",
   "name": "python",
   "nbconvert_exporter": "python",
   "pygments_lexer": "ipython3",
   "version": "3.12.7"
  }
 },
 "nbformat": 4,
 "nbformat_minor": 5
}
